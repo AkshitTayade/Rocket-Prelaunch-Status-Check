{
 "cells": [
  {
   "cell_type": "code",
   "execution_count": 1,
   "metadata": {},
   "outputs": [],
   "source": [
    "import pandas as pd\n",
    "from sklearn.model_selection import train_test_split\n",
    "from sklearn.preprocessing import LabelEncoder\n",
    "from sklearn.model_selection import GridSearchCV\n",
    "from sklearn.ensemble import RandomForestClassifier\n",
    "from sklearn.metrics import accuracy_score, confusion_matrix, classification_report"
   ]
  },
  {
   "cell_type": "code",
   "execution_count": 2,
   "metadata": {},
   "outputs": [],
   "source": [
    "dataset = pd.read_excel('RocketLaunchDataCompleted.xlsx')"
   ]
  },
  {
   "cell_type": "markdown",
   "metadata": {},
   "source": [
    "## Data Cleaning"
   ]
  },
  {
   "cell_type": "code",
   "execution_count": 3,
   "metadata": {},
   "outputs": [],
   "source": [
    "dataset.drop(['Name', 'Date', 'Time (East Coast)',\n",
    "             'Location', 'Hist Ave Max Wind Speed', 'Hist Ave Visibility',\n",
    "             'Hist Ave Sea Level Pressure', 'Day Length',\n",
    "             'Notes', 'Sea Level Pressure'], axis=1, inplace=True)"
   ]
  },
  {
   "cell_type": "code",
   "execution_count": 4,
   "metadata": {},
   "outputs": [
    {
     "data": {
      "text/html": [
       "<div>\n",
       "<style scoped>\n",
       "    .dataframe tbody tr th:only-of-type {\n",
       "        vertical-align: middle;\n",
       "    }\n",
       "\n",
       "    .dataframe tbody tr th {\n",
       "        vertical-align: top;\n",
       "    }\n",
       "\n",
       "    .dataframe thead th {\n",
       "        text-align: right;\n",
       "    }\n",
       "</style>\n",
       "<table border=\"1\" class=\"dataframe\">\n",
       "  <thead>\n",
       "    <tr style=\"text-align: right;\">\n",
       "      <th></th>\n",
       "      <th>Crewed or Uncrewed</th>\n",
       "      <th>Launched?</th>\n",
       "      <th>High Temp</th>\n",
       "      <th>Low Temp</th>\n",
       "      <th>Ave Temp</th>\n",
       "      <th>Temp at Launch Time</th>\n",
       "      <th>Hist High Temp</th>\n",
       "      <th>Hist Low Temp</th>\n",
       "      <th>Hist Ave Temp</th>\n",
       "      <th>Percipitation at Launch Time</th>\n",
       "      <th>Hist Ave Percipitation</th>\n",
       "      <th>Wind Direction</th>\n",
       "      <th>Max Wind Speed</th>\n",
       "      <th>Visibility</th>\n",
       "      <th>Wind Speed at Launch Time</th>\n",
       "      <th>Condition</th>\n",
       "    </tr>\n",
       "  </thead>\n",
       "  <tbody>\n",
       "    <tr>\n",
       "      <th>0</th>\n",
       "      <td>NaN</td>\n",
       "      <td>NaN</td>\n",
       "      <td>75.0</td>\n",
       "      <td>68.0</td>\n",
       "      <td>71.00</td>\n",
       "      <td>NaN</td>\n",
       "      <td>75.0</td>\n",
       "      <td>55.0</td>\n",
       "      <td>65.0</td>\n",
       "      <td>0.00</td>\n",
       "      <td>0.08</td>\n",
       "      <td>E</td>\n",
       "      <td>16.0</td>\n",
       "      <td>15.0</td>\n",
       "      <td>NaN</td>\n",
       "      <td>Cloudy</td>\n",
       "    </tr>\n",
       "    <tr>\n",
       "      <th>1</th>\n",
       "      <td>NaN</td>\n",
       "      <td>NaN</td>\n",
       "      <td>78.0</td>\n",
       "      <td>70.0</td>\n",
       "      <td>73.39</td>\n",
       "      <td>NaN</td>\n",
       "      <td>75.0</td>\n",
       "      <td>55.0</td>\n",
       "      <td>65.0</td>\n",
       "      <td>0.00</td>\n",
       "      <td>0.09</td>\n",
       "      <td>E</td>\n",
       "      <td>14.0</td>\n",
       "      <td>10.0</td>\n",
       "      <td>NaN</td>\n",
       "      <td>Cloudy</td>\n",
       "    </tr>\n",
       "    <tr>\n",
       "      <th>2</th>\n",
       "      <td>Uncrewed</td>\n",
       "      <td>Y</td>\n",
       "      <td>73.0</td>\n",
       "      <td>0.0</td>\n",
       "      <td>60.21</td>\n",
       "      <td>62.0</td>\n",
       "      <td>75.0</td>\n",
       "      <td>55.0</td>\n",
       "      <td>65.0</td>\n",
       "      <td>0.00</td>\n",
       "      <td>0.09</td>\n",
       "      <td>NE</td>\n",
       "      <td>15.0</td>\n",
       "      <td>10.0</td>\n",
       "      <td>11.0</td>\n",
       "      <td>Cloudy</td>\n",
       "    </tr>\n",
       "    <tr>\n",
       "      <th>3</th>\n",
       "      <td>NaN</td>\n",
       "      <td>NaN</td>\n",
       "      <td>76.0</td>\n",
       "      <td>57.0</td>\n",
       "      <td>66.04</td>\n",
       "      <td>NaN</td>\n",
       "      <td>75.0</td>\n",
       "      <td>55.0</td>\n",
       "      <td>65.0</td>\n",
       "      <td>0.00</td>\n",
       "      <td>0.08</td>\n",
       "      <td>N</td>\n",
       "      <td>10.0</td>\n",
       "      <td>10.0</td>\n",
       "      <td>NaN</td>\n",
       "      <td>Partly Cloudy</td>\n",
       "    </tr>\n",
       "    <tr>\n",
       "      <th>4</th>\n",
       "      <td>NaN</td>\n",
       "      <td>NaN</td>\n",
       "      <td>79.0</td>\n",
       "      <td>60.0</td>\n",
       "      <td>70.52</td>\n",
       "      <td>NaN</td>\n",
       "      <td>75.0</td>\n",
       "      <td>55.0</td>\n",
       "      <td>65.0</td>\n",
       "      <td>0.00</td>\n",
       "      <td>0.09</td>\n",
       "      <td>E</td>\n",
       "      <td>12.0</td>\n",
       "      <td>10.0</td>\n",
       "      <td>NaN</td>\n",
       "      <td>Partly Cloudy</td>\n",
       "    </tr>\n",
       "    <tr>\n",
       "      <th>...</th>\n",
       "      <td>...</td>\n",
       "      <td>...</td>\n",
       "      <td>...</td>\n",
       "      <td>...</td>\n",
       "      <td>...</td>\n",
       "      <td>...</td>\n",
       "      <td>...</td>\n",
       "      <td>...</td>\n",
       "      <td>...</td>\n",
       "      <td>...</td>\n",
       "      <td>...</td>\n",
       "      <td>...</td>\n",
       "      <td>...</td>\n",
       "      <td>...</td>\n",
       "      <td>...</td>\n",
       "      <td>...</td>\n",
       "    </tr>\n",
       "    <tr>\n",
       "      <th>295</th>\n",
       "      <td>NaN</td>\n",
       "      <td>NaN</td>\n",
       "      <td>87.0</td>\n",
       "      <td>71.0</td>\n",
       "      <td>79.36</td>\n",
       "      <td>NaN</td>\n",
       "      <td>87.0</td>\n",
       "      <td>70.0</td>\n",
       "      <td>79.0</td>\n",
       "      <td>0.00</td>\n",
       "      <td>0.15</td>\n",
       "      <td>S</td>\n",
       "      <td>20.0</td>\n",
       "      <td>10.0</td>\n",
       "      <td>NaN</td>\n",
       "      <td>Thunder</td>\n",
       "    </tr>\n",
       "    <tr>\n",
       "      <th>296</th>\n",
       "      <td>NaN</td>\n",
       "      <td>NaN</td>\n",
       "      <td>86.0</td>\n",
       "      <td>72.0</td>\n",
       "      <td>79.50</td>\n",
       "      <td>NaN</td>\n",
       "      <td>88.0</td>\n",
       "      <td>70.0</td>\n",
       "      <td>79.0</td>\n",
       "      <td>0.01</td>\n",
       "      <td>0.16</td>\n",
       "      <td>SE</td>\n",
       "      <td>18.0</td>\n",
       "      <td>10.0</td>\n",
       "      <td>NaN</td>\n",
       "      <td>Fair</td>\n",
       "    </tr>\n",
       "    <tr>\n",
       "      <th>297</th>\n",
       "      <td>Crewed</td>\n",
       "      <td>Y</td>\n",
       "      <td>87.0</td>\n",
       "      <td>75.0</td>\n",
       "      <td>79.69</td>\n",
       "      <td>80.0</td>\n",
       "      <td>88.0</td>\n",
       "      <td>70.0</td>\n",
       "      <td>79.0</td>\n",
       "      <td>0.00</td>\n",
       "      <td>0.16</td>\n",
       "      <td>SE</td>\n",
       "      <td>16.0</td>\n",
       "      <td>10.0</td>\n",
       "      <td>7.0</td>\n",
       "      <td>Fair</td>\n",
       "    </tr>\n",
       "    <tr>\n",
       "      <th>298</th>\n",
       "      <td>NaN</td>\n",
       "      <td>NaN</td>\n",
       "      <td>87.0</td>\n",
       "      <td>72.0</td>\n",
       "      <td>79.70</td>\n",
       "      <td>NaN</td>\n",
       "      <td>88.0</td>\n",
       "      <td>70.0</td>\n",
       "      <td>79.0</td>\n",
       "      <td>0.46</td>\n",
       "      <td>0.16</td>\n",
       "      <td>E</td>\n",
       "      <td>13.0</td>\n",
       "      <td>10.0</td>\n",
       "      <td>NaN</td>\n",
       "      <td>Cloudy</td>\n",
       "    </tr>\n",
       "    <tr>\n",
       "      <th>299</th>\n",
       "      <td>NaN</td>\n",
       "      <td>NaN</td>\n",
       "      <td>85.0</td>\n",
       "      <td>76.0</td>\n",
       "      <td>80.31</td>\n",
       "      <td>NaN</td>\n",
       "      <td>88.0</td>\n",
       "      <td>70.0</td>\n",
       "      <td>79.0</td>\n",
       "      <td>0.00</td>\n",
       "      <td>0.19</td>\n",
       "      <td>E</td>\n",
       "      <td>16.0</td>\n",
       "      <td>10.0</td>\n",
       "      <td>NaN</td>\n",
       "      <td>Cloudy</td>\n",
       "    </tr>\n",
       "  </tbody>\n",
       "</table>\n",
       "<p>300 rows × 16 columns</p>\n",
       "</div>"
      ],
      "text/plain": [
       "    Crewed or Uncrewed Launched?  High Temp  Low Temp  Ave Temp  \\\n",
       "0                  NaN       NaN       75.0      68.0     71.00   \n",
       "1                  NaN       NaN       78.0      70.0     73.39   \n",
       "2             Uncrewed         Y       73.0       0.0     60.21   \n",
       "3                  NaN       NaN       76.0      57.0     66.04   \n",
       "4                  NaN       NaN       79.0      60.0     70.52   \n",
       "..                 ...       ...        ...       ...       ...   \n",
       "295                NaN       NaN       87.0      71.0     79.36   \n",
       "296                NaN       NaN       86.0      72.0     79.50   \n",
       "297             Crewed         Y       87.0      75.0     79.69   \n",
       "298                NaN       NaN       87.0      72.0     79.70   \n",
       "299                NaN       NaN       85.0      76.0     80.31   \n",
       "\n",
       "     Temp at Launch Time  Hist High Temp  Hist Low Temp  Hist Ave Temp  \\\n",
       "0                    NaN            75.0           55.0           65.0   \n",
       "1                    NaN            75.0           55.0           65.0   \n",
       "2                   62.0            75.0           55.0           65.0   \n",
       "3                    NaN            75.0           55.0           65.0   \n",
       "4                    NaN            75.0           55.0           65.0   \n",
       "..                   ...             ...            ...            ...   \n",
       "295                  NaN            87.0           70.0           79.0   \n",
       "296                  NaN            88.0           70.0           79.0   \n",
       "297                 80.0            88.0           70.0           79.0   \n",
       "298                  NaN            88.0           70.0           79.0   \n",
       "299                  NaN            88.0           70.0           79.0   \n",
       "\n",
       "     Percipitation at Launch Time  Hist Ave Percipitation Wind Direction  \\\n",
       "0                            0.00                    0.08              E   \n",
       "1                            0.00                    0.09              E   \n",
       "2                            0.00                    0.09             NE   \n",
       "3                            0.00                    0.08              N   \n",
       "4                            0.00                    0.09              E   \n",
       "..                            ...                     ...            ...   \n",
       "295                          0.00                    0.15              S   \n",
       "296                          0.01                    0.16             SE   \n",
       "297                          0.00                    0.16             SE   \n",
       "298                          0.46                    0.16              E   \n",
       "299                          0.00                    0.19              E   \n",
       "\n",
       "     Max Wind Speed  Visibility  Wind Speed at Launch Time      Condition  \n",
       "0              16.0        15.0                        NaN         Cloudy  \n",
       "1              14.0        10.0                        NaN         Cloudy  \n",
       "2              15.0        10.0                       11.0         Cloudy  \n",
       "3              10.0        10.0                        NaN  Partly Cloudy  \n",
       "4              12.0        10.0                        NaN  Partly Cloudy  \n",
       "..              ...         ...                        ...            ...  \n",
       "295            20.0        10.0                        NaN        Thunder  \n",
       "296            18.0        10.0                        NaN           Fair  \n",
       "297            16.0        10.0                        7.0           Fair  \n",
       "298            13.0        10.0                        NaN         Cloudy  \n",
       "299            16.0        10.0                        NaN         Cloudy  \n",
       "\n",
       "[300 rows x 16 columns]"
      ]
     },
     "execution_count": 4,
     "metadata": {},
     "output_type": "execute_result"
    }
   ],
   "source": [
    "dataset"
   ]
  },
  {
   "cell_type": "code",
   "execution_count": 5,
   "metadata": {},
   "outputs": [
    {
     "data": {
      "text/plain": [
       "{'Crewed', 'Uncrewed', nan}"
      ]
     },
     "execution_count": 5,
     "metadata": {},
     "output_type": "execute_result"
    }
   ],
   "source": [
    "# filling NAN values with Uncrewed\n",
    "set(dataset['Crewed or Uncrewed'])"
   ]
  },
  {
   "cell_type": "code",
   "execution_count": 6,
   "metadata": {},
   "outputs": [],
   "source": [
    "# replacing NAN with uncrewed\n",
    "dataset['Crewed or Uncrewed'].fillna('Uncrewed', inplace=True)"
   ]
  },
  {
   "cell_type": "code",
   "execution_count": 7,
   "metadata": {},
   "outputs": [],
   "source": [
    "# replacing NAN with N i.e. unsuccessfull\n",
    "dataset['Launched?'].fillna('N', inplace=True)"
   ]
  },
  {
   "cell_type": "code",
   "execution_count": 8,
   "metadata": {},
   "outputs": [
    {
     "data": {
      "text/plain": [
       "241"
      ]
     },
     "execution_count": 8,
     "metadata": {},
     "output_type": "execute_result"
    }
   ],
   "source": [
    "dataset['Temp at Launch Time'].isnull().sum()"
   ]
  },
  {
   "cell_type": "code",
   "execution_count": 9,
   "metadata": {},
   "outputs": [
    {
     "data": {
      "text/plain": [
       "count    59.000000\n",
       "mean     75.101695\n",
       "std      10.471134\n",
       "min      50.000000\n",
       "25%      70.000000\n",
       "50%      77.000000\n",
       "75%      81.500000\n",
       "max      98.000000\n",
       "Name: Temp at Launch Time, dtype: float64"
      ]
     },
     "execution_count": 9,
     "metadata": {},
     "output_type": "execute_result"
    }
   ],
   "source": [
    "dataset['Temp at Launch Time'].describe()"
   ]
  },
  {
   "cell_type": "code",
   "execution_count": 10,
   "metadata": {},
   "outputs": [],
   "source": [
    "dataset['Temp at Launch Time'].fillna(dataset['Temp at Launch Time'].mean(), inplace=True)"
   ]
  },
  {
   "cell_type": "code",
   "execution_count": 11,
   "metadata": {},
   "outputs": [
    {
     "name": "stdout",
     "output_type": "stream",
     "text": [
      "<class 'pandas.core.frame.DataFrame'>\n",
      "RangeIndex: 300 entries, 0 to 299\n",
      "Data columns (total 16 columns):\n",
      " #   Column                        Non-Null Count  Dtype  \n",
      "---  ------                        --------------  -----  \n",
      " 0   Crewed or Uncrewed            300 non-null    object \n",
      " 1   Launched?                     300 non-null    object \n",
      " 2   High Temp                     299 non-null    float64\n",
      " 3   Low Temp                      299 non-null    float64\n",
      " 4   Ave Temp                      299 non-null    float64\n",
      " 5   Temp at Launch Time           300 non-null    float64\n",
      " 6   Hist High Temp                299 non-null    float64\n",
      " 7   Hist Low Temp                 299 non-null    float64\n",
      " 8   Hist Ave Temp                 299 non-null    float64\n",
      " 9   Percipitation at Launch Time  299 non-null    float64\n",
      " 10  Hist Ave Percipitation        299 non-null    float64\n",
      " 11  Wind Direction                299 non-null    object \n",
      " 12  Max Wind Speed                299 non-null    float64\n",
      " 13  Visibility                    299 non-null    float64\n",
      " 14  Wind Speed at Launch Time     59 non-null     float64\n",
      " 15  Condition                     298 non-null    object \n",
      "dtypes: float64(12), object(4)\n",
      "memory usage: 37.6+ KB\n"
     ]
    }
   ],
   "source": [
    "dataset.info()"
   ]
  },
  {
   "cell_type": "code",
   "execution_count": 12,
   "metadata": {},
   "outputs": [
    {
     "data": {
      "text/html": [
       "<div>\n",
       "<style scoped>\n",
       "    .dataframe tbody tr th:only-of-type {\n",
       "        vertical-align: middle;\n",
       "    }\n",
       "\n",
       "    .dataframe tbody tr th {\n",
       "        vertical-align: top;\n",
       "    }\n",
       "\n",
       "    .dataframe thead th {\n",
       "        text-align: right;\n",
       "    }\n",
       "</style>\n",
       "<table border=\"1\" class=\"dataframe\">\n",
       "  <thead>\n",
       "    <tr style=\"text-align: right;\">\n",
       "      <th></th>\n",
       "      <th>Crewed or Uncrewed</th>\n",
       "      <th>Launched?</th>\n",
       "      <th>High Temp</th>\n",
       "      <th>Low Temp</th>\n",
       "      <th>Ave Temp</th>\n",
       "      <th>Temp at Launch Time</th>\n",
       "      <th>Hist High Temp</th>\n",
       "      <th>Hist Low Temp</th>\n",
       "      <th>Hist Ave Temp</th>\n",
       "      <th>Percipitation at Launch Time</th>\n",
       "      <th>Hist Ave Percipitation</th>\n",
       "      <th>Wind Direction</th>\n",
       "      <th>Max Wind Speed</th>\n",
       "      <th>Visibility</th>\n",
       "      <th>Wind Speed at Launch Time</th>\n",
       "      <th>Condition</th>\n",
       "    </tr>\n",
       "  </thead>\n",
       "  <tbody>\n",
       "    <tr>\n",
       "      <th>142</th>\n",
       "      <td>Uncrewed</td>\n",
       "      <td>Y</td>\n",
       "      <td>NaN</td>\n",
       "      <td>NaN</td>\n",
       "      <td>NaN</td>\n",
       "      <td>75.101695</td>\n",
       "      <td>NaN</td>\n",
       "      <td>NaN</td>\n",
       "      <td>NaN</td>\n",
       "      <td>NaN</td>\n",
       "      <td>NaN</td>\n",
       "      <td>NaN</td>\n",
       "      <td>NaN</td>\n",
       "      <td>NaN</td>\n",
       "      <td>NaN</td>\n",
       "      <td>NaN</td>\n",
       "    </tr>\n",
       "  </tbody>\n",
       "</table>\n",
       "</div>"
      ],
      "text/plain": [
       "    Crewed or Uncrewed Launched?  High Temp  Low Temp  Ave Temp  \\\n",
       "142           Uncrewed         Y        NaN       NaN       NaN   \n",
       "\n",
       "     Temp at Launch Time  Hist High Temp  Hist Low Temp  Hist Ave Temp  \\\n",
       "142            75.101695             NaN            NaN            NaN   \n",
       "\n",
       "     Percipitation at Launch Time  Hist Ave Percipitation Wind Direction  \\\n",
       "142                           NaN                     NaN            NaN   \n",
       "\n",
       "     Max Wind Speed  Visibility  Wind Speed at Launch Time Condition  \n",
       "142             NaN         NaN                        NaN       NaN  "
      ]
     },
     "execution_count": 12,
     "metadata": {},
     "output_type": "execute_result"
    }
   ],
   "source": [
    "# we notice that one entry is completely useless for us\n",
    "dataset[dataset['High Temp'].isnull()]"
   ]
  },
  {
   "cell_type": "code",
   "execution_count": 13,
   "metadata": {},
   "outputs": [],
   "source": [
    "dataset.drop(142, inplace=True)"
   ]
  },
  {
   "cell_type": "code",
   "execution_count": 14,
   "metadata": {},
   "outputs": [
    {
     "name": "stdout",
     "output_type": "stream",
     "text": [
      "<class 'pandas.core.frame.DataFrame'>\n",
      "Int64Index: 299 entries, 0 to 299\n",
      "Data columns (total 16 columns):\n",
      " #   Column                        Non-Null Count  Dtype  \n",
      "---  ------                        --------------  -----  \n",
      " 0   Crewed or Uncrewed            299 non-null    object \n",
      " 1   Launched?                     299 non-null    object \n",
      " 2   High Temp                     299 non-null    float64\n",
      " 3   Low Temp                      299 non-null    float64\n",
      " 4   Ave Temp                      299 non-null    float64\n",
      " 5   Temp at Launch Time           299 non-null    float64\n",
      " 6   Hist High Temp                299 non-null    float64\n",
      " 7   Hist Low Temp                 299 non-null    float64\n",
      " 8   Hist Ave Temp                 299 non-null    float64\n",
      " 9   Percipitation at Launch Time  299 non-null    float64\n",
      " 10  Hist Ave Percipitation        299 non-null    float64\n",
      " 11  Wind Direction                299 non-null    object \n",
      " 12  Max Wind Speed                299 non-null    float64\n",
      " 13  Visibility                    299 non-null    float64\n",
      " 14  Wind Speed at Launch Time     59 non-null     float64\n",
      " 15  Condition                     298 non-null    object \n",
      "dtypes: float64(12), object(4)\n",
      "memory usage: 39.7+ KB\n"
     ]
    }
   ],
   "source": [
    "dataset.info()"
   ]
  },
  {
   "cell_type": "code",
   "execution_count": 15,
   "metadata": {},
   "outputs": [
    {
     "data": {
      "text/plain": [
       "240"
      ]
     },
     "execution_count": 15,
     "metadata": {},
     "output_type": "execute_result"
    }
   ],
   "source": [
    "dataset['Wind Speed at Launch Time'].isna().sum()"
   ]
  },
  {
   "cell_type": "code",
   "execution_count": 16,
   "metadata": {
    "scrolled": true
   },
   "outputs": [
    {
     "data": {
      "text/plain": [
       "{nan,\n",
       " nan,\n",
       " nan,\n",
       " nan,\n",
       " nan,\n",
       " nan,\n",
       " nan,\n",
       " nan,\n",
       " nan,\n",
       " nan,\n",
       " 4.0,\n",
       " 5.0,\n",
       " 9.0,\n",
       " 11.0,\n",
       " 12.0,\n",
       " nan,\n",
       " nan,\n",
       " nan,\n",
       " 13.0,\n",
       " 14.0,\n",
       " 15.0,\n",
       " 16.0,\n",
       " 17.0,\n",
       " 19.0,\n",
       " 25.0,\n",
       " 26.0,\n",
       " nan,\n",
       " nan,\n",
       " nan,\n",
       " nan,\n",
       " nan,\n",
       " nan,\n",
       " nan,\n",
       " nan,\n",
       " nan,\n",
       " 2.0,\n",
       " 6.0,\n",
       " 7.0,\n",
       " 8.0,\n",
       " 10.0,\n",
       " nan,\n",
       " nan,\n",
       " nan,\n",
       " nan,\n",
       " nan,\n",
       " nan,\n",
       " nan,\n",
       " nan,\n",
       " nan,\n",
       " nan,\n",
       " nan,\n",
       " nan,\n",
       " nan,\n",
       " nan,\n",
       " nan,\n",
       " nan,\n",
       " nan,\n",
       " nan,\n",
       " nan,\n",
       " nan,\n",
       " nan,\n",
       " nan,\n",
       " nan,\n",
       " nan,\n",
       " nan,\n",
       " nan,\n",
       " nan,\n",
       " nan,\n",
       " nan,\n",
       " nan,\n",
       " nan,\n",
       " nan,\n",
       " nan,\n",
       " nan,\n",
       " nan,\n",
       " nan,\n",
       " nan,\n",
       " nan,\n",
       " nan,\n",
       " nan,\n",
       " nan,\n",
       " nan,\n",
       " nan,\n",
       " nan,\n",
       " nan,\n",
       " nan,\n",
       " nan,\n",
       " nan,\n",
       " nan,\n",
       " nan,\n",
       " nan,\n",
       " nan,\n",
       " nan,\n",
       " nan,\n",
       " nan,\n",
       " nan,\n",
       " nan,\n",
       " nan,\n",
       " nan,\n",
       " nan,\n",
       " nan,\n",
       " nan,\n",
       " nan,\n",
       " nan,\n",
       " nan,\n",
       " nan,\n",
       " nan,\n",
       " nan,\n",
       " nan,\n",
       " nan,\n",
       " nan,\n",
       " nan,\n",
       " nan,\n",
       " nan,\n",
       " nan,\n",
       " nan,\n",
       " nan,\n",
       " nan,\n",
       " nan,\n",
       " nan,\n",
       " nan,\n",
       " nan,\n",
       " nan,\n",
       " nan,\n",
       " nan,\n",
       " nan,\n",
       " nan,\n",
       " nan,\n",
       " nan,\n",
       " nan,\n",
       " nan,\n",
       " nan,\n",
       " nan,\n",
       " nan,\n",
       " nan,\n",
       " nan,\n",
       " nan,\n",
       " nan,\n",
       " nan,\n",
       " nan,\n",
       " nan,\n",
       " nan,\n",
       " nan,\n",
       " nan,\n",
       " nan,\n",
       " nan,\n",
       " nan,\n",
       " nan,\n",
       " nan,\n",
       " nan,\n",
       " nan,\n",
       " nan,\n",
       " nan,\n",
       " nan,\n",
       " nan,\n",
       " nan,\n",
       " nan,\n",
       " nan,\n",
       " nan,\n",
       " nan,\n",
       " nan,\n",
       " nan,\n",
       " nan,\n",
       " nan,\n",
       " nan,\n",
       " nan,\n",
       " nan,\n",
       " nan,\n",
       " nan,\n",
       " nan,\n",
       " nan,\n",
       " nan,\n",
       " nan,\n",
       " nan,\n",
       " nan,\n",
       " nan,\n",
       " nan,\n",
       " nan,\n",
       " nan,\n",
       " nan,\n",
       " nan,\n",
       " nan,\n",
       " nan,\n",
       " nan,\n",
       " nan,\n",
       " nan,\n",
       " nan,\n",
       " nan,\n",
       " nan,\n",
       " nan,\n",
       " nan,\n",
       " nan,\n",
       " nan,\n",
       " nan,\n",
       " nan,\n",
       " nan,\n",
       " nan,\n",
       " nan,\n",
       " nan,\n",
       " nan,\n",
       " nan,\n",
       " nan,\n",
       " nan,\n",
       " nan,\n",
       " nan,\n",
       " nan,\n",
       " nan,\n",
       " nan,\n",
       " nan,\n",
       " nan,\n",
       " nan,\n",
       " nan,\n",
       " nan,\n",
       " nan,\n",
       " nan,\n",
       " nan,\n",
       " nan,\n",
       " nan,\n",
       " nan,\n",
       " nan,\n",
       " nan,\n",
       " nan,\n",
       " nan,\n",
       " nan,\n",
       " nan,\n",
       " nan,\n",
       " nan,\n",
       " nan,\n",
       " nan,\n",
       " nan,\n",
       " nan,\n",
       " nan,\n",
       " nan,\n",
       " nan,\n",
       " nan,\n",
       " nan,\n",
       " nan,\n",
       " nan,\n",
       " nan,\n",
       " nan,\n",
       " nan,\n",
       " nan,\n",
       " nan,\n",
       " nan,\n",
       " nan,\n",
       " nan,\n",
       " nan,\n",
       " nan,\n",
       " nan,\n",
       " nan,\n",
       " nan,\n",
       " nan,\n",
       " nan,\n",
       " nan,\n",
       " nan,\n",
       " nan,\n",
       " nan,\n",
       " nan}"
      ]
     },
     "execution_count": 16,
     "metadata": {},
     "output_type": "execute_result"
    }
   ],
   "source": [
    "# deciding the approx vlue to fill the NULL entries\n",
    "set(dataset['Wind Speed at Launch Time'])"
   ]
  },
  {
   "cell_type": "code",
   "execution_count": 17,
   "metadata": {},
   "outputs": [
    {
     "data": {
      "text/plain": [
       "10.59322033898305"
      ]
     },
     "execution_count": 17,
     "metadata": {},
     "output_type": "execute_result"
    }
   ],
   "source": [
    "dataset['Wind Speed at Launch Time'].mean()"
   ]
  },
  {
   "cell_type": "code",
   "execution_count": 18,
   "metadata": {},
   "outputs": [],
   "source": [
    "dataset['Wind Speed at Launch Time'].fillna(dataset['Wind Speed at Launch Time'].mean(), inplace=True)"
   ]
  },
  {
   "cell_type": "code",
   "execution_count": 19,
   "metadata": {},
   "outputs": [
    {
     "data": {
      "text/html": [
       "<div>\n",
       "<style scoped>\n",
       "    .dataframe tbody tr th:only-of-type {\n",
       "        vertical-align: middle;\n",
       "    }\n",
       "\n",
       "    .dataframe tbody tr th {\n",
       "        vertical-align: top;\n",
       "    }\n",
       "\n",
       "    .dataframe thead th {\n",
       "        text-align: right;\n",
       "    }\n",
       "</style>\n",
       "<table border=\"1\" class=\"dataframe\">\n",
       "  <thead>\n",
       "    <tr style=\"text-align: right;\">\n",
       "      <th></th>\n",
       "      <th>Crewed or Uncrewed</th>\n",
       "      <th>Launched?</th>\n",
       "      <th>High Temp</th>\n",
       "      <th>Low Temp</th>\n",
       "      <th>Ave Temp</th>\n",
       "      <th>Temp at Launch Time</th>\n",
       "      <th>Hist High Temp</th>\n",
       "      <th>Hist Low Temp</th>\n",
       "      <th>Hist Ave Temp</th>\n",
       "      <th>Percipitation at Launch Time</th>\n",
       "      <th>Hist Ave Percipitation</th>\n",
       "      <th>Wind Direction</th>\n",
       "      <th>Max Wind Speed</th>\n",
       "      <th>Visibility</th>\n",
       "      <th>Wind Speed at Launch Time</th>\n",
       "      <th>Condition</th>\n",
       "    </tr>\n",
       "  </thead>\n",
       "  <tbody>\n",
       "    <tr>\n",
       "      <th>78</th>\n",
       "      <td>Uncrewed</td>\n",
       "      <td>N</td>\n",
       "      <td>89.0</td>\n",
       "      <td>0.0</td>\n",
       "      <td>75.21</td>\n",
       "      <td>75.101695</td>\n",
       "      <td>89.0</td>\n",
       "      <td>73.0</td>\n",
       "      <td>80.0</td>\n",
       "      <td>0.0</td>\n",
       "      <td>0.24</td>\n",
       "      <td>E</td>\n",
       "      <td>17.0</td>\n",
       "      <td>10.0</td>\n",
       "      <td>10.59322</td>\n",
       "      <td>NaN</td>\n",
       "    </tr>\n",
       "  </tbody>\n",
       "</table>\n",
       "</div>"
      ],
      "text/plain": [
       "   Crewed or Uncrewed Launched?  High Temp  Low Temp  Ave Temp  \\\n",
       "78           Uncrewed         N       89.0       0.0     75.21   \n",
       "\n",
       "    Temp at Launch Time  Hist High Temp  Hist Low Temp  Hist Ave Temp  \\\n",
       "78            75.101695            89.0           73.0           80.0   \n",
       "\n",
       "    Percipitation at Launch Time  Hist Ave Percipitation Wind Direction  \\\n",
       "78                           0.0                    0.24              E   \n",
       "\n",
       "    Max Wind Speed  Visibility  Wind Speed at Launch Time Condition  \n",
       "78            17.0        10.0                   10.59322       NaN  "
      ]
     },
     "execution_count": 19,
     "metadata": {},
     "output_type": "execute_result"
    }
   ],
   "source": [
    "dataset[dataset['Condition'].isna()]"
   ]
  },
  {
   "cell_type": "code",
   "execution_count": 20,
   "metadata": {},
   "outputs": [],
   "source": [
    "dataset['Condition'].fillna('Fair', inplace=True)"
   ]
  },
  {
   "cell_type": "markdown",
   "metadata": {},
   "source": [
    "### Completely Clean data"
   ]
  },
  {
   "cell_type": "code",
   "execution_count": 21,
   "metadata": {
    "scrolled": true
   },
   "outputs": [
    {
     "name": "stdout",
     "output_type": "stream",
     "text": [
      "<class 'pandas.core.frame.DataFrame'>\n",
      "Int64Index: 299 entries, 0 to 299\n",
      "Data columns (total 16 columns):\n",
      " #   Column                        Non-Null Count  Dtype  \n",
      "---  ------                        --------------  -----  \n",
      " 0   Crewed or Uncrewed            299 non-null    object \n",
      " 1   Launched?                     299 non-null    object \n",
      " 2   High Temp                     299 non-null    float64\n",
      " 3   Low Temp                      299 non-null    float64\n",
      " 4   Ave Temp                      299 non-null    float64\n",
      " 5   Temp at Launch Time           299 non-null    float64\n",
      " 6   Hist High Temp                299 non-null    float64\n",
      " 7   Hist Low Temp                 299 non-null    float64\n",
      " 8   Hist Ave Temp                 299 non-null    float64\n",
      " 9   Percipitation at Launch Time  299 non-null    float64\n",
      " 10  Hist Ave Percipitation        299 non-null    float64\n",
      " 11  Wind Direction                299 non-null    object \n",
      " 12  Max Wind Speed                299 non-null    float64\n",
      " 13  Visibility                    299 non-null    float64\n",
      " 14  Wind Speed at Launch Time     299 non-null    float64\n",
      " 15  Condition                     299 non-null    object \n",
      "dtypes: float64(12), object(4)\n",
      "memory usage: 39.7+ KB\n"
     ]
    }
   ],
   "source": [
    "dataset.info()"
   ]
  },
  {
   "cell_type": "code",
   "execution_count": 22,
   "metadata": {},
   "outputs": [
    {
     "data": {
      "text/html": [
       "<div>\n",
       "<style scoped>\n",
       "    .dataframe tbody tr th:only-of-type {\n",
       "        vertical-align: middle;\n",
       "    }\n",
       "\n",
       "    .dataframe tbody tr th {\n",
       "        vertical-align: top;\n",
       "    }\n",
       "\n",
       "    .dataframe thead th {\n",
       "        text-align: right;\n",
       "    }\n",
       "</style>\n",
       "<table border=\"1\" class=\"dataframe\">\n",
       "  <thead>\n",
       "    <tr style=\"text-align: right;\">\n",
       "      <th></th>\n",
       "      <th>Crewed or Uncrewed</th>\n",
       "      <th>Launched?</th>\n",
       "      <th>High Temp</th>\n",
       "      <th>Low Temp</th>\n",
       "      <th>Ave Temp</th>\n",
       "      <th>Temp at Launch Time</th>\n",
       "      <th>Hist High Temp</th>\n",
       "      <th>Hist Low Temp</th>\n",
       "      <th>Hist Ave Temp</th>\n",
       "      <th>Percipitation at Launch Time</th>\n",
       "      <th>Hist Ave Percipitation</th>\n",
       "      <th>Wind Direction</th>\n",
       "      <th>Max Wind Speed</th>\n",
       "      <th>Visibility</th>\n",
       "      <th>Wind Speed at Launch Time</th>\n",
       "      <th>Condition</th>\n",
       "    </tr>\n",
       "  </thead>\n",
       "  <tbody>\n",
       "    <tr>\n",
       "      <th>0</th>\n",
       "      <td>Uncrewed</td>\n",
       "      <td>N</td>\n",
       "      <td>75.0</td>\n",
       "      <td>68.0</td>\n",
       "      <td>71.00</td>\n",
       "      <td>75.101695</td>\n",
       "      <td>75.0</td>\n",
       "      <td>55.0</td>\n",
       "      <td>65.0</td>\n",
       "      <td>0.0</td>\n",
       "      <td>0.08</td>\n",
       "      <td>E</td>\n",
       "      <td>16.0</td>\n",
       "      <td>15.0</td>\n",
       "      <td>10.59322</td>\n",
       "      <td>Cloudy</td>\n",
       "    </tr>\n",
       "    <tr>\n",
       "      <th>1</th>\n",
       "      <td>Uncrewed</td>\n",
       "      <td>N</td>\n",
       "      <td>78.0</td>\n",
       "      <td>70.0</td>\n",
       "      <td>73.39</td>\n",
       "      <td>75.101695</td>\n",
       "      <td>75.0</td>\n",
       "      <td>55.0</td>\n",
       "      <td>65.0</td>\n",
       "      <td>0.0</td>\n",
       "      <td>0.09</td>\n",
       "      <td>E</td>\n",
       "      <td>14.0</td>\n",
       "      <td>10.0</td>\n",
       "      <td>10.59322</td>\n",
       "      <td>Cloudy</td>\n",
       "    </tr>\n",
       "    <tr>\n",
       "      <th>2</th>\n",
       "      <td>Uncrewed</td>\n",
       "      <td>Y</td>\n",
       "      <td>73.0</td>\n",
       "      <td>0.0</td>\n",
       "      <td>60.21</td>\n",
       "      <td>62.000000</td>\n",
       "      <td>75.0</td>\n",
       "      <td>55.0</td>\n",
       "      <td>65.0</td>\n",
       "      <td>0.0</td>\n",
       "      <td>0.09</td>\n",
       "      <td>NE</td>\n",
       "      <td>15.0</td>\n",
       "      <td>10.0</td>\n",
       "      <td>11.00000</td>\n",
       "      <td>Cloudy</td>\n",
       "    </tr>\n",
       "    <tr>\n",
       "      <th>3</th>\n",
       "      <td>Uncrewed</td>\n",
       "      <td>N</td>\n",
       "      <td>76.0</td>\n",
       "      <td>57.0</td>\n",
       "      <td>66.04</td>\n",
       "      <td>75.101695</td>\n",
       "      <td>75.0</td>\n",
       "      <td>55.0</td>\n",
       "      <td>65.0</td>\n",
       "      <td>0.0</td>\n",
       "      <td>0.08</td>\n",
       "      <td>N</td>\n",
       "      <td>10.0</td>\n",
       "      <td>10.0</td>\n",
       "      <td>10.59322</td>\n",
       "      <td>Partly Cloudy</td>\n",
       "    </tr>\n",
       "    <tr>\n",
       "      <th>4</th>\n",
       "      <td>Uncrewed</td>\n",
       "      <td>N</td>\n",
       "      <td>79.0</td>\n",
       "      <td>60.0</td>\n",
       "      <td>70.52</td>\n",
       "      <td>75.101695</td>\n",
       "      <td>75.0</td>\n",
       "      <td>55.0</td>\n",
       "      <td>65.0</td>\n",
       "      <td>0.0</td>\n",
       "      <td>0.09</td>\n",
       "      <td>E</td>\n",
       "      <td>12.0</td>\n",
       "      <td>10.0</td>\n",
       "      <td>10.59322</td>\n",
       "      <td>Partly Cloudy</td>\n",
       "    </tr>\n",
       "  </tbody>\n",
       "</table>\n",
       "</div>"
      ],
      "text/plain": [
       "  Crewed or Uncrewed Launched?  High Temp  Low Temp  Ave Temp  \\\n",
       "0           Uncrewed         N       75.0      68.0     71.00   \n",
       "1           Uncrewed         N       78.0      70.0     73.39   \n",
       "2           Uncrewed         Y       73.0       0.0     60.21   \n",
       "3           Uncrewed         N       76.0      57.0     66.04   \n",
       "4           Uncrewed         N       79.0      60.0     70.52   \n",
       "\n",
       "   Temp at Launch Time  Hist High Temp  Hist Low Temp  Hist Ave Temp  \\\n",
       "0            75.101695            75.0           55.0           65.0   \n",
       "1            75.101695            75.0           55.0           65.0   \n",
       "2            62.000000            75.0           55.0           65.0   \n",
       "3            75.101695            75.0           55.0           65.0   \n",
       "4            75.101695            75.0           55.0           65.0   \n",
       "\n",
       "   Percipitation at Launch Time  Hist Ave Percipitation Wind Direction  \\\n",
       "0                           0.0                    0.08              E   \n",
       "1                           0.0                    0.09              E   \n",
       "2                           0.0                    0.09             NE   \n",
       "3                           0.0                    0.08              N   \n",
       "4                           0.0                    0.09              E   \n",
       "\n",
       "   Max Wind Speed  Visibility  Wind Speed at Launch Time      Condition  \n",
       "0            16.0        15.0                   10.59322         Cloudy  \n",
       "1            14.0        10.0                   10.59322         Cloudy  \n",
       "2            15.0        10.0                   11.00000         Cloudy  \n",
       "3            10.0        10.0                   10.59322  Partly Cloudy  \n",
       "4            12.0        10.0                   10.59322  Partly Cloudy  "
      ]
     },
     "execution_count": 22,
     "metadata": {},
     "output_type": "execute_result"
    }
   ],
   "source": [
    "dataset.head()"
   ]
  },
  {
   "cell_type": "markdown",
   "metadata": {},
   "source": [
    "### Converting String into Numerical Values"
   ]
  },
  {
   "cell_type": "code",
   "execution_count": 23,
   "metadata": {},
   "outputs": [],
   "source": [
    "# Crewed or Uncrewed,\n",
    "# Wind Direction,\n",
    "# Condition.\n",
    "\n",
    "# need to change all this into numerical data\n",
    "\n",
    "label_encoder_crew_status = LabelEncoder()\n",
    "label_encoder_wind_dir = LabelEncoder()\n",
    "label_encoder_condition = LabelEncoder()\n",
    "label_encoder_launched = LabelEncoder()\n",
    "\n",
    "dataset['Crewed or Uncrewed'] = label_encoder_crew_status.fit_transform(dataset['Crewed or Uncrewed'])\n",
    "dataset['Wind Direction'] = label_encoder_wind_dir.fit_transform(dataset['Wind Direction'])\n",
    "dataset['Condition'] = label_encoder_condition.fit_transform(dataset['Condition'])\n",
    "dataset['Launched?'] = label_encoder_launched.fit_transform(dataset['Launched?'])"
   ]
  },
  {
   "cell_type": "code",
   "execution_count": 24,
   "metadata": {},
   "outputs": [
    {
     "data": {
      "text/plain": [
       "array(['Crewed', 'Uncrewed'], dtype=object)"
      ]
     },
     "execution_count": 24,
     "metadata": {},
     "output_type": "execute_result"
    }
   ],
   "source": [
    "label_encoder_crew_status.classes_"
   ]
  },
  {
   "cell_type": "code",
   "execution_count": 25,
   "metadata": {},
   "outputs": [
    {
     "data": {
      "text/plain": [
       "array(['E', 'N', 'NE', 'NW', 'S', 'SE', 'SW', 'W'], dtype=object)"
      ]
     },
     "execution_count": 25,
     "metadata": {},
     "output_type": "execute_result"
    }
   ],
   "source": [
    "label_encoder_wind_dir.classes_"
   ]
  },
  {
   "cell_type": "code",
   "execution_count": 26,
   "metadata": {},
   "outputs": [
    {
     "data": {
      "text/plain": [
       "array(['Cloudy', 'Fair', 'Heavy T-Storm', 'Light Rain', 'Mostly Cloudy',\n",
       "       'Partly Cloudly', 'Partly Cloudy', 'Rain', 'T-Storm', 'Thunder',\n",
       "       'Windy'], dtype=object)"
      ]
     },
     "execution_count": 26,
     "metadata": {},
     "output_type": "execute_result"
    }
   ],
   "source": [
    "label_encoder_condition.classes_"
   ]
  },
  {
   "cell_type": "code",
   "execution_count": 27,
   "metadata": {},
   "outputs": [
    {
     "data": {
      "text/plain": [
       "array(['N', 'Y'], dtype=object)"
      ]
     },
     "execution_count": 27,
     "metadata": {},
     "output_type": "execute_result"
    }
   ],
   "source": [
    "label_encoder_launched.classes_"
   ]
  },
  {
   "cell_type": "code",
   "execution_count": 28,
   "metadata": {
    "scrolled": true
   },
   "outputs": [
    {
     "name": "stdout",
     "output_type": "stream",
     "text": [
      "<class 'pandas.core.frame.DataFrame'>\n",
      "Int64Index: 299 entries, 0 to 299\n",
      "Data columns (total 16 columns):\n",
      " #   Column                        Non-Null Count  Dtype  \n",
      "---  ------                        --------------  -----  \n",
      " 0   Crewed or Uncrewed            299 non-null    int64  \n",
      " 1   Launched?                     299 non-null    int64  \n",
      " 2   High Temp                     299 non-null    float64\n",
      " 3   Low Temp                      299 non-null    float64\n",
      " 4   Ave Temp                      299 non-null    float64\n",
      " 5   Temp at Launch Time           299 non-null    float64\n",
      " 6   Hist High Temp                299 non-null    float64\n",
      " 7   Hist Low Temp                 299 non-null    float64\n",
      " 8   Hist Ave Temp                 299 non-null    float64\n",
      " 9   Percipitation at Launch Time  299 non-null    float64\n",
      " 10  Hist Ave Percipitation        299 non-null    float64\n",
      " 11  Wind Direction                299 non-null    int64  \n",
      " 12  Max Wind Speed                299 non-null    float64\n",
      " 13  Visibility                    299 non-null    float64\n",
      " 14  Wind Speed at Launch Time     299 non-null    float64\n",
      " 15  Condition                     299 non-null    int64  \n",
      "dtypes: float64(12), int64(4)\n",
      "memory usage: 39.7 KB\n"
     ]
    }
   ],
   "source": [
    "dataset.info()"
   ]
  },
  {
   "cell_type": "code",
   "execution_count": 29,
   "metadata": {},
   "outputs": [
    {
     "data": {
      "text/html": [
       "<div>\n",
       "<style scoped>\n",
       "    .dataframe tbody tr th:only-of-type {\n",
       "        vertical-align: middle;\n",
       "    }\n",
       "\n",
       "    .dataframe tbody tr th {\n",
       "        vertical-align: top;\n",
       "    }\n",
       "\n",
       "    .dataframe thead th {\n",
       "        text-align: right;\n",
       "    }\n",
       "</style>\n",
       "<table border=\"1\" class=\"dataframe\">\n",
       "  <thead>\n",
       "    <tr style=\"text-align: right;\">\n",
       "      <th></th>\n",
       "      <th>Crewed or Uncrewed</th>\n",
       "      <th>Launched?</th>\n",
       "      <th>High Temp</th>\n",
       "      <th>Low Temp</th>\n",
       "      <th>Ave Temp</th>\n",
       "      <th>Temp at Launch Time</th>\n",
       "      <th>Hist High Temp</th>\n",
       "      <th>Hist Low Temp</th>\n",
       "      <th>Hist Ave Temp</th>\n",
       "      <th>Percipitation at Launch Time</th>\n",
       "      <th>Hist Ave Percipitation</th>\n",
       "      <th>Wind Direction</th>\n",
       "      <th>Max Wind Speed</th>\n",
       "      <th>Visibility</th>\n",
       "      <th>Wind Speed at Launch Time</th>\n",
       "      <th>Condition</th>\n",
       "    </tr>\n",
       "  </thead>\n",
       "  <tbody>\n",
       "    <tr>\n",
       "      <th>0</th>\n",
       "      <td>1</td>\n",
       "      <td>0</td>\n",
       "      <td>75.0</td>\n",
       "      <td>68.0</td>\n",
       "      <td>71.00</td>\n",
       "      <td>75.101695</td>\n",
       "      <td>75.0</td>\n",
       "      <td>55.0</td>\n",
       "      <td>65.0</td>\n",
       "      <td>0.0</td>\n",
       "      <td>0.08</td>\n",
       "      <td>0</td>\n",
       "      <td>16.0</td>\n",
       "      <td>15.0</td>\n",
       "      <td>10.59322</td>\n",
       "      <td>0</td>\n",
       "    </tr>\n",
       "    <tr>\n",
       "      <th>1</th>\n",
       "      <td>1</td>\n",
       "      <td>0</td>\n",
       "      <td>78.0</td>\n",
       "      <td>70.0</td>\n",
       "      <td>73.39</td>\n",
       "      <td>75.101695</td>\n",
       "      <td>75.0</td>\n",
       "      <td>55.0</td>\n",
       "      <td>65.0</td>\n",
       "      <td>0.0</td>\n",
       "      <td>0.09</td>\n",
       "      <td>0</td>\n",
       "      <td>14.0</td>\n",
       "      <td>10.0</td>\n",
       "      <td>10.59322</td>\n",
       "      <td>0</td>\n",
       "    </tr>\n",
       "    <tr>\n",
       "      <th>2</th>\n",
       "      <td>1</td>\n",
       "      <td>1</td>\n",
       "      <td>73.0</td>\n",
       "      <td>0.0</td>\n",
       "      <td>60.21</td>\n",
       "      <td>62.000000</td>\n",
       "      <td>75.0</td>\n",
       "      <td>55.0</td>\n",
       "      <td>65.0</td>\n",
       "      <td>0.0</td>\n",
       "      <td>0.09</td>\n",
       "      <td>2</td>\n",
       "      <td>15.0</td>\n",
       "      <td>10.0</td>\n",
       "      <td>11.00000</td>\n",
       "      <td>0</td>\n",
       "    </tr>\n",
       "    <tr>\n",
       "      <th>3</th>\n",
       "      <td>1</td>\n",
       "      <td>0</td>\n",
       "      <td>76.0</td>\n",
       "      <td>57.0</td>\n",
       "      <td>66.04</td>\n",
       "      <td>75.101695</td>\n",
       "      <td>75.0</td>\n",
       "      <td>55.0</td>\n",
       "      <td>65.0</td>\n",
       "      <td>0.0</td>\n",
       "      <td>0.08</td>\n",
       "      <td>1</td>\n",
       "      <td>10.0</td>\n",
       "      <td>10.0</td>\n",
       "      <td>10.59322</td>\n",
       "      <td>6</td>\n",
       "    </tr>\n",
       "    <tr>\n",
       "      <th>4</th>\n",
       "      <td>1</td>\n",
       "      <td>0</td>\n",
       "      <td>79.0</td>\n",
       "      <td>60.0</td>\n",
       "      <td>70.52</td>\n",
       "      <td>75.101695</td>\n",
       "      <td>75.0</td>\n",
       "      <td>55.0</td>\n",
       "      <td>65.0</td>\n",
       "      <td>0.0</td>\n",
       "      <td>0.09</td>\n",
       "      <td>0</td>\n",
       "      <td>12.0</td>\n",
       "      <td>10.0</td>\n",
       "      <td>10.59322</td>\n",
       "      <td>6</td>\n",
       "    </tr>\n",
       "  </tbody>\n",
       "</table>\n",
       "</div>"
      ],
      "text/plain": [
       "   Crewed or Uncrewed  Launched?  High Temp  Low Temp  Ave Temp  \\\n",
       "0                   1          0       75.0      68.0     71.00   \n",
       "1                   1          0       78.0      70.0     73.39   \n",
       "2                   1          1       73.0       0.0     60.21   \n",
       "3                   1          0       76.0      57.0     66.04   \n",
       "4                   1          0       79.0      60.0     70.52   \n",
       "\n",
       "   Temp at Launch Time  Hist High Temp  Hist Low Temp  Hist Ave Temp  \\\n",
       "0            75.101695            75.0           55.0           65.0   \n",
       "1            75.101695            75.0           55.0           65.0   \n",
       "2            62.000000            75.0           55.0           65.0   \n",
       "3            75.101695            75.0           55.0           65.0   \n",
       "4            75.101695            75.0           55.0           65.0   \n",
       "\n",
       "   Percipitation at Launch Time  Hist Ave Percipitation  Wind Direction  \\\n",
       "0                           0.0                    0.08               0   \n",
       "1                           0.0                    0.09               0   \n",
       "2                           0.0                    0.09               2   \n",
       "3                           0.0                    0.08               1   \n",
       "4                           0.0                    0.09               0   \n",
       "\n",
       "   Max Wind Speed  Visibility  Wind Speed at Launch Time  Condition  \n",
       "0            16.0        15.0                   10.59322          0  \n",
       "1            14.0        10.0                   10.59322          0  \n",
       "2            15.0        10.0                   11.00000          0  \n",
       "3            10.0        10.0                   10.59322          6  \n",
       "4            12.0        10.0                   10.59322          6  "
      ]
     },
     "execution_count": 29,
     "metadata": {},
     "output_type": "execute_result"
    }
   ],
   "source": [
    "dataset.head()"
   ]
  },
  {
   "cell_type": "markdown",
   "metadata": {},
   "source": [
    "### Train and Test split for our data"
   ]
  },
  {
   "cell_type": "code",
   "execution_count": 30,
   "metadata": {},
   "outputs": [
    {
     "data": {
      "text/plain": [
       "(299,)"
      ]
     },
     "execution_count": 30,
     "metadata": {},
     "output_type": "execute_result"
    }
   ],
   "source": [
    "Y = dataset.iloc[:, 1]\n",
    "Y.shape"
   ]
  },
  {
   "cell_type": "code",
   "execution_count": 31,
   "metadata": {},
   "outputs": [],
   "source": [
    "dataset.drop('Launched?', axis=1, inplace=True)"
   ]
  },
  {
   "cell_type": "code",
   "execution_count": 32,
   "metadata": {},
   "outputs": [
    {
     "data": {
      "text/plain": [
       "(299, 15)"
      ]
     },
     "execution_count": 32,
     "metadata": {},
     "output_type": "execute_result"
    }
   ],
   "source": [
    "X = dataset\n",
    "X.shape"
   ]
  },
  {
   "cell_type": "code",
   "execution_count": 33,
   "metadata": {},
   "outputs": [],
   "source": [
    "x_train, x_test, y_train, y_test = train_test_split(X, Y, test_size=0.20, random_state=0)"
   ]
  },
  {
   "cell_type": "code",
   "execution_count": 34,
   "metadata": {},
   "outputs": [
    {
     "data": {
      "text/plain": [
       "((239, 15), (60, 15), (239,), (60,))"
      ]
     },
     "execution_count": 34,
     "metadata": {},
     "output_type": "execute_result"
    }
   ],
   "source": [
    "x_train.shape, x_test.shape, y_train.shape, y_test.shape"
   ]
  },
  {
   "cell_type": "markdown",
   "metadata": {},
   "source": [
    "## Training the Model"
   ]
  },
  {
   "cell_type": "markdown",
   "metadata": {},
   "source": [
    "### Random Forest"
   ]
  },
  {
   "cell_type": "code",
   "execution_count": 35,
   "metadata": {
    "scrolled": false
   },
   "outputs": [
    {
     "data": {
      "text/plain": [
       "GridSearchCV(estimator=RandomForestClassifier(),\n",
       "             param_grid={'max_depth': [30, 40, 50, 60, 70, 80],\n",
       "                         'n_estimators': [200, 400, 600]})"
      ]
     },
     "execution_count": 35,
     "metadata": {},
     "output_type": "execute_result"
    }
   ],
   "source": [
    "clf = RandomForestClassifier()\n",
    "parameters = {'n_estimators':[200, 400, 600],\n",
    "             'max_depth': [30, 40, 50, 60, 70, 80]}\n",
    "\n",
    "RandomForest = GridSearchCV(clf, parameters)\n",
    "RandomForest.fit(x_train, y_train)"
   ]
  },
  {
   "cell_type": "code",
   "execution_count": 36,
   "metadata": {},
   "outputs": [
    {
     "data": {
      "text/plain": [
       "0.9957446808510639"
      ]
     },
     "execution_count": 36,
     "metadata": {},
     "output_type": "execute_result"
    }
   ],
   "source": [
    "RandomForest.best_score_"
   ]
  },
  {
   "cell_type": "code",
   "execution_count": 37,
   "metadata": {},
   "outputs": [
    {
     "data": {
      "text/plain": [
       "{'max_depth': 30, 'n_estimators': 200}"
      ]
     },
     "execution_count": 37,
     "metadata": {},
     "output_type": "execute_result"
    }
   ],
   "source": [
    "RandomForest.best_params_"
   ]
  },
  {
   "cell_type": "code",
   "execution_count": 38,
   "metadata": {},
   "outputs": [],
   "source": [
    "clf = RandomForestClassifier(max_depth= 30, n_estimators= 200)"
   ]
  },
  {
   "cell_type": "code",
   "execution_count": 39,
   "metadata": {},
   "outputs": [
    {
     "data": {
      "text/plain": [
       "RandomForestClassifier(max_depth=30, n_estimators=200)"
      ]
     },
     "execution_count": 39,
     "metadata": {},
     "output_type": "execute_result"
    }
   ],
   "source": [
    "clf.fit(x_train, y_train)"
   ]
  },
  {
   "cell_type": "code",
   "execution_count": 40,
   "metadata": {
    "scrolled": true
   },
   "outputs": [],
   "source": [
    "y_pred = clf.predict(x_test)"
   ]
  },
  {
   "cell_type": "code",
   "execution_count": 41,
   "metadata": {},
   "outputs": [
    {
     "data": {
      "text/plain": [
       "0.9833333333333333"
      ]
     },
     "execution_count": 41,
     "metadata": {},
     "output_type": "execute_result"
    }
   ],
   "source": [
    "accuracy_score(y_test, y_pred)"
   ]
  },
  {
   "cell_type": "code",
   "execution_count": 42,
   "metadata": {},
   "outputs": [
    {
     "data": {
      "text/plain": [
       "array([[50,  1],\n",
       "       [ 0,  9]])"
      ]
     },
     "execution_count": 42,
     "metadata": {},
     "output_type": "execute_result"
    }
   ],
   "source": [
    "confusion_matrix(y_test, y_pred)"
   ]
  },
  {
   "cell_type": "code",
   "execution_count": 43,
   "metadata": {},
   "outputs": [
    {
     "name": "stdout",
     "output_type": "stream",
     "text": [
      "              precision    recall  f1-score   support\n",
      "\n",
      "           0       1.00      0.98      0.99        51\n",
      "           1       0.90      1.00      0.95         9\n",
      "\n",
      "    accuracy                           0.98        60\n",
      "   macro avg       0.95      0.99      0.97        60\n",
      "weighted avg       0.98      0.98      0.98        60\n",
      "\n"
     ]
    }
   ],
   "source": [
    "print(classification_report(y_test, y_pred))"
   ]
  },
  {
   "cell_type": "markdown",
   "metadata": {},
   "source": [
    "### KNN"
   ]
  },
  {
   "cell_type": "code",
   "execution_count": 44,
   "metadata": {},
   "outputs": [],
   "source": [
    "from sklearn.neighbors import KNeighborsClassifier"
   ]
  },
  {
   "cell_type": "code",
   "execution_count": 45,
   "metadata": {},
   "outputs": [
    {
     "data": {
      "text/plain": [
       "GridSearchCV(estimator=KNeighborsClassifier(),\n",
       "             param_grid={'n_neighbors': [5, 7, 9]})"
      ]
     },
     "execution_count": 45,
     "metadata": {},
     "output_type": "execute_result"
    }
   ],
   "source": [
    "clf1 = KNeighborsClassifier()\n",
    "parameters = {'n_neighbors':[5, 7, 9]}\n",
    "\n",
    "knn = GridSearchCV(clf1, parameters)\n",
    "knn.fit(x_train, y_train)"
   ]
  },
  {
   "cell_type": "code",
   "execution_count": 46,
   "metadata": {},
   "outputs": [
    {
     "data": {
      "text/plain": [
       "{'n_neighbors': 5}"
      ]
     },
     "execution_count": 46,
     "metadata": {},
     "output_type": "execute_result"
    }
   ],
   "source": [
    "knn.best_params_"
   ]
  },
  {
   "cell_type": "code",
   "execution_count": 47,
   "metadata": {},
   "outputs": [
    {
     "data": {
      "text/plain": [
       "KNeighborsClassifier()"
      ]
     },
     "execution_count": 47,
     "metadata": {},
     "output_type": "execute_result"
    }
   ],
   "source": [
    "clf_knn = KNeighborsClassifier(n_neighbors=5)\n",
    "clf_knn.fit(x_train, y_train)"
   ]
  },
  {
   "cell_type": "code",
   "execution_count": 48,
   "metadata": {},
   "outputs": [],
   "source": [
    "y_pred_knn = clf_knn.predict(x_test)"
   ]
  },
  {
   "cell_type": "code",
   "execution_count": 49,
   "metadata": {},
   "outputs": [
    {
     "data": {
      "text/plain": [
       "0.9"
      ]
     },
     "execution_count": 49,
     "metadata": {},
     "output_type": "execute_result"
    }
   ],
   "source": [
    "accuracy_score(y_test, y_pred_knn)"
   ]
  },
  {
   "cell_type": "code",
   "execution_count": 50,
   "metadata": {},
   "outputs": [
    {
     "name": "stdout",
     "output_type": "stream",
     "text": [
      "              precision    recall  f1-score   support\n",
      "\n",
      "           0       0.89      1.00      0.94        51\n",
      "           1       1.00      0.33      0.50         9\n",
      "\n",
      "    accuracy                           0.90        60\n",
      "   macro avg       0.95      0.67      0.72        60\n",
      "weighted avg       0.91      0.90      0.88        60\n",
      "\n"
     ]
    }
   ],
   "source": [
    "print(classification_report(y_test, y_pred_knn))"
   ]
  }
 ],
 "metadata": {
  "kernelspec": {
   "display_name": "Python 3",
   "language": "python",
   "name": "python3"
  },
  "language_info": {
   "codemirror_mode": {
    "name": "ipython",
    "version": 3
   },
   "file_extension": ".py",
   "mimetype": "text/x-python",
   "name": "python",
   "nbconvert_exporter": "python",
   "pygments_lexer": "ipython3",
   "version": "3.7.7"
  }
 },
 "nbformat": 4,
 "nbformat_minor": 4
}
